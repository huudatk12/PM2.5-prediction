{
 "cells": [
  {
   "cell_type": "code",
   "execution_count": 134,
   "metadata": {},
   "outputs": [],
   "source": [
    "import math\n",
    "import tensorflow as tf\n",
    "from tensorflow import keras\n",
    "from tensorflow.keras.models import Sequential\n",
    "from tensorflow.keras.layers import Dense\n",
    "from tensorflow.keras.layers import LSTM\n",
    "from tensorflow.keras.layers import Dropout\n",
    "from tensorflow.keras.layers import Flatten\n",
    "from numpy import array\n",
    "from tensorflow.keras.models import load_model\n",
    "from matplotlib import pyplot as plt\n",
    "import seaborn as sns\n",
    "\n",
    "import numpy as np \n",
    "import pandas as pd \n",
    "import plotly.express as px\n",
    "from datetime import datetime, timedelta\n",
    "\n",
    "from sklearn.preprocessing import MinMaxScaler\n",
    "from sklearn.preprocessing import StandardScaler\n",
    "from sklearn.preprocessing import LabelEncoder\n",
    "from sklearn.metrics import mean_squared_error, mean_absolute_error, r2_score"
   ]
  },
  {
   "cell_type": "code",
   "execution_count": 135,
   "metadata": {},
   "outputs": [
    {
     "data": {
      "text/html": [
       "<div>\n",
       "<style scoped>\n",
       "    .dataframe tbody tr th:only-of-type {\n",
       "        vertical-align: middle;\n",
       "    }\n",
       "\n",
       "    .dataframe tbody tr th {\n",
       "        vertical-align: top;\n",
       "    }\n",
       "\n",
       "    .dataframe thead th {\n",
       "        text-align: right;\n",
       "    }\n",
       "</style>\n",
       "<table border=\"1\" class=\"dataframe\">\n",
       "  <thead>\n",
       "    <tr style=\"text-align: right;\">\n",
       "      <th></th>\n",
       "      <th>date</th>\n",
       "      <th>pm25</th>\n",
       "      <th>o3</th>\n",
       "      <th>no2</th>\n",
       "      <th>so2</th>\n",
       "      <th>co</th>\n",
       "      <th>aqi</th>\n",
       "    </tr>\n",
       "  </thead>\n",
       "  <tbody>\n",
       "    <tr>\n",
       "      <th>0</th>\n",
       "      <td>2021/10/1</td>\n",
       "      <td>94</td>\n",
       "      <td>7</td>\n",
       "      <td>7</td>\n",
       "      <td>5</td>\n",
       "      <td></td>\n",
       "      <td></td>\n",
       "    </tr>\n",
       "    <tr>\n",
       "      <th>1</th>\n",
       "      <td>2021/10/2</td>\n",
       "      <td>80</td>\n",
       "      <td>16</td>\n",
       "      <td>9</td>\n",
       "      <td>5</td>\n",
       "      <td></td>\n",
       "      <td></td>\n",
       "    </tr>\n",
       "    <tr>\n",
       "      <th>2</th>\n",
       "      <td>2021/10/3</td>\n",
       "      <td>117</td>\n",
       "      <td></td>\n",
       "      <td></td>\n",
       "      <td></td>\n",
       "      <td></td>\n",
       "      <td></td>\n",
       "    </tr>\n",
       "    <tr>\n",
       "      <th>3</th>\n",
       "      <td>2021/9/1</td>\n",
       "      <td>83</td>\n",
       "      <td>11</td>\n",
       "      <td>4</td>\n",
       "      <td>4</td>\n",
       "      <td></td>\n",
       "      <td></td>\n",
       "    </tr>\n",
       "    <tr>\n",
       "      <th>4</th>\n",
       "      <td>2021/9/2</td>\n",
       "      <td>69</td>\n",
       "      <td>10</td>\n",
       "      <td>5</td>\n",
       "      <td>5</td>\n",
       "      <td></td>\n",
       "      <td></td>\n",
       "    </tr>\n",
       "    <tr>\n",
       "      <th>...</th>\n",
       "      <td>...</td>\n",
       "      <td>...</td>\n",
       "      <td>...</td>\n",
       "      <td>...</td>\n",
       "      <td>...</td>\n",
       "      <td>...</td>\n",
       "      <td>...</td>\n",
       "    </tr>\n",
       "    <tr>\n",
       "      <th>2772</th>\n",
       "      <td>2015/12/15</td>\n",
       "      <td></td>\n",
       "      <td></td>\n",
       "      <td></td>\n",
       "      <td></td>\n",
       "      <td>18</td>\n",
       "      <td></td>\n",
       "    </tr>\n",
       "    <tr>\n",
       "      <th>2773</th>\n",
       "      <td>2015/10/6</td>\n",
       "      <td></td>\n",
       "      <td></td>\n",
       "      <td></td>\n",
       "      <td></td>\n",
       "      <td></td>\n",
       "      <td>117</td>\n",
       "    </tr>\n",
       "    <tr>\n",
       "      <th>2774</th>\n",
       "      <td>2015/10/7</td>\n",
       "      <td></td>\n",
       "      <td></td>\n",
       "      <td></td>\n",
       "      <td></td>\n",
       "      <td></td>\n",
       "      <td>122</td>\n",
       "    </tr>\n",
       "    <tr>\n",
       "      <th>2775</th>\n",
       "      <td>2015/10/8</td>\n",
       "      <td></td>\n",
       "      <td></td>\n",
       "      <td></td>\n",
       "      <td></td>\n",
       "      <td></td>\n",
       "      <td>144</td>\n",
       "    </tr>\n",
       "    <tr>\n",
       "      <th>2776</th>\n",
       "      <td>2015/5/26</td>\n",
       "      <td></td>\n",
       "      <td></td>\n",
       "      <td></td>\n",
       "      <td></td>\n",
       "      <td></td>\n",
       "      <td>97</td>\n",
       "    </tr>\n",
       "  </tbody>\n",
       "</table>\n",
       "<p>2777 rows × 7 columns</p>\n",
       "</div>"
      ],
      "text/plain": [
       "            date  pm25   o3  no2  so2   co   aqi\n",
       "0      2021/10/1    94    7    7    5           \n",
       "1      2021/10/2    80   16    9    5           \n",
       "2      2021/10/3   117                          \n",
       "3       2021/9/1    83   11    4    4           \n",
       "4       2021/9/2    69   10    5    5           \n",
       "...          ...   ...  ...  ...  ...  ...   ...\n",
       "2772  2015/12/15                        18      \n",
       "2773   2015/10/6                             117\n",
       "2774   2015/10/7                             122\n",
       "2775   2015/10/8                             144\n",
       "2776   2015/5/26                              97\n",
       "\n",
       "[2777 rows x 7 columns]"
      ]
     },
     "execution_count": 135,
     "metadata": {},
     "output_type": "execute_result"
    }
   ],
   "source": [
    "dataset_raw = pd.read_csv('C:/Users/Admin/Desktop/Final_Froject/data/HN_old.csv')\n",
    "dataset_raw"
   ]
  },
  {
   "cell_type": "code",
   "execution_count": 136,
   "metadata": {},
   "outputs": [],
   "source": [
    "def parse(x):\n",
    "\treturn datetime.strptime(x,\"%Y/%m/%d\")\n",
    "dataset = pd.read_csv('C:/Users/Admin/Desktop/Final_Froject/data/HN_old.csv',  parse_dates = ['date'], index_col=0, date_parser=parse)\n",
    "dataset = dataset.replace(' ', 0,)\n",
    "dataset.columns = ['pm25', 'o3', 'no2', 'so2', 'co', 'aqi']\n",
    "dataset = dataset[:1968]\n",
    "dataset.to_csv(r'C:/Users/Admin/Desktop/Final_Froject/data/HN_new.csv')"
   ]
  },
  {
   "cell_type": "code",
   "execution_count": 137,
   "metadata": {},
   "outputs": [
    {
     "data": {
      "text/html": [
       "<div>\n",
       "<style scoped>\n",
       "    .dataframe tbody tr th:only-of-type {\n",
       "        vertical-align: middle;\n",
       "    }\n",
       "\n",
       "    .dataframe tbody tr th {\n",
       "        vertical-align: top;\n",
       "    }\n",
       "\n",
       "    .dataframe thead th {\n",
       "        text-align: right;\n",
       "    }\n",
       "</style>\n",
       "<table border=\"1\" class=\"dataframe\">\n",
       "  <thead>\n",
       "    <tr style=\"text-align: right;\">\n",
       "      <th></th>\n",
       "      <th>date</th>\n",
       "      <th>pm25</th>\n",
       "    </tr>\n",
       "  </thead>\n",
       "  <tbody>\n",
       "    <tr>\n",
       "      <th>0</th>\n",
       "      <td>2021/10/1</td>\n",
       "      <td>67</td>\n",
       "    </tr>\n",
       "    <tr>\n",
       "      <th>1</th>\n",
       "      <td>2021/10/2</td>\n",
       "      <td>56</td>\n",
       "    </tr>\n",
       "    <tr>\n",
       "      <th>2</th>\n",
       "      <td>2021/10/3</td>\n",
       "      <td>55</td>\n",
       "    </tr>\n",
       "    <tr>\n",
       "      <th>3</th>\n",
       "      <td>2021/9/1</td>\n",
       "      <td>39</td>\n",
       "    </tr>\n",
       "    <tr>\n",
       "      <th>4</th>\n",
       "      <td>2021/9/2</td>\n",
       "      <td>39</td>\n",
       "    </tr>\n",
       "    <tr>\n",
       "      <th>...</th>\n",
       "      <td>...</td>\n",
       "      <td>...</td>\n",
       "    </tr>\n",
       "    <tr>\n",
       "      <th>1963</th>\n",
       "      <td>2016/3/27</td>\n",
       "      <td>106</td>\n",
       "    </tr>\n",
       "    <tr>\n",
       "      <th>1964</th>\n",
       "      <td>2016/3/28</td>\n",
       "      <td>117</td>\n",
       "    </tr>\n",
       "    <tr>\n",
       "      <th>1965</th>\n",
       "      <td>2016/3/29</td>\n",
       "      <td>136</td>\n",
       "    </tr>\n",
       "    <tr>\n",
       "      <th>1966</th>\n",
       "      <td>2016/3/30</td>\n",
       "      <td>92</td>\n",
       "    </tr>\n",
       "    <tr>\n",
       "      <th>1967</th>\n",
       "      <td>2016/3/31</td>\n",
       "      <td>75</td>\n",
       "    </tr>\n",
       "  </tbody>\n",
       "</table>\n",
       "<p>1968 rows × 2 columns</p>\n",
       "</div>"
      ],
      "text/plain": [
       "           date   pm25\n",
       "0     2021/10/1     67\n",
       "1     2021/10/2     56\n",
       "2     2021/10/3     55\n",
       "3      2021/9/1     39\n",
       "4      2021/9/2     39\n",
       "...         ...    ...\n",
       "1963  2016/3/27    106\n",
       "1964  2016/3/28    117\n",
       "1965  2016/3/29    136\n",
       "1966  2016/3/30     92\n",
       "1967  2016/3/31     75\n",
       "\n",
       "[1968 rows x 2 columns]"
      ]
     },
     "execution_count": 137,
     "metadata": {},
     "output_type": "execute_result"
    }
   ],
   "source": [
    "dataset_raw2 = pd.read_csv('C:/Users/Admin/Desktop/Final_Froject/data/HCM_old.csv')\n",
    "dataset_raw2"
   ]
  },
  {
   "cell_type": "code",
   "execution_count": 138,
   "metadata": {},
   "outputs": [
    {
     "data": {
      "text/html": [
       "<div>\n",
       "<style scoped>\n",
       "    .dataframe tbody tr th:only-of-type {\n",
       "        vertical-align: middle;\n",
       "    }\n",
       "\n",
       "    .dataframe tbody tr th {\n",
       "        vertical-align: top;\n",
       "    }\n",
       "\n",
       "    .dataframe thead th {\n",
       "        text-align: right;\n",
       "    }\n",
       "</style>\n",
       "<table border=\"1\" class=\"dataframe\">\n",
       "  <thead>\n",
       "    <tr style=\"text-align: right;\">\n",
       "      <th></th>\n",
       "      <th>pm25</th>\n",
       "    </tr>\n",
       "    <tr>\n",
       "      <th>date</th>\n",
       "      <th></th>\n",
       "    </tr>\n",
       "  </thead>\n",
       "  <tbody>\n",
       "    <tr>\n",
       "      <th>2021-10-01</th>\n",
       "      <td>67</td>\n",
       "    </tr>\n",
       "    <tr>\n",
       "      <th>2021-10-02</th>\n",
       "      <td>56</td>\n",
       "    </tr>\n",
       "    <tr>\n",
       "      <th>2021-10-03</th>\n",
       "      <td>55</td>\n",
       "    </tr>\n",
       "    <tr>\n",
       "      <th>2021-09-01</th>\n",
       "      <td>39</td>\n",
       "    </tr>\n",
       "    <tr>\n",
       "      <th>2021-09-02</th>\n",
       "      <td>39</td>\n",
       "    </tr>\n",
       "    <tr>\n",
       "      <th>...</th>\n",
       "      <td>...</td>\n",
       "    </tr>\n",
       "    <tr>\n",
       "      <th>2016-03-27</th>\n",
       "      <td>106</td>\n",
       "    </tr>\n",
       "    <tr>\n",
       "      <th>2016-03-28</th>\n",
       "      <td>117</td>\n",
       "    </tr>\n",
       "    <tr>\n",
       "      <th>2016-03-29</th>\n",
       "      <td>136</td>\n",
       "    </tr>\n",
       "    <tr>\n",
       "      <th>2016-03-30</th>\n",
       "      <td>92</td>\n",
       "    </tr>\n",
       "    <tr>\n",
       "      <th>2016-03-31</th>\n",
       "      <td>75</td>\n",
       "    </tr>\n",
       "  </tbody>\n",
       "</table>\n",
       "<p>1968 rows × 1 columns</p>\n",
       "</div>"
      ],
      "text/plain": [
       "            pm25\n",
       "date            \n",
       "2021-10-01    67\n",
       "2021-10-02    56\n",
       "2021-10-03    55\n",
       "2021-09-01    39\n",
       "2021-09-02    39\n",
       "...          ...\n",
       "2016-03-27   106\n",
       "2016-03-28   117\n",
       "2016-03-29   136\n",
       "2016-03-30    92\n",
       "2016-03-31    75\n",
       "\n",
       "[1968 rows x 1 columns]"
      ]
     },
     "execution_count": 138,
     "metadata": {},
     "output_type": "execute_result"
    }
   ],
   "source": [
    "def parse(x):\n",
    "\treturn datetime.strptime(x,\"%Y/%m/%d\")\n",
    "dataset1 = pd.read_csv('C:/Users/Admin/Desktop/Final_Froject/data/HCM_old.csv',  parse_dates = ['date'], index_col=0, date_parser=parse)\n",
    "dataset1.columns = ['pm25']\n",
    "dataset1['pm25'].fillna(0, inplace=True)\n",
    "dataset1"
   ]
  },
  {
   "cell_type": "code",
   "execution_count": 139,
   "metadata": {},
   "outputs": [],
   "source": [
    "dataset = pd.read_csv('TPHCM.csv')\n",
    "train_dates = pd.to_datetime(dataset['date'])"
   ]
  },
  {
   "cell_type": "code",
   "execution_count": 140,
   "metadata": {},
   "outputs": [],
   "source": [
    "# groupby_day = dataset.groupby(pd.PeriodIndex(data=dataset.date, freq='D'))\n",
    "# results = groupby_day.sum()\n",
    "# idx = pd.period_range(min(dataset.date), max(dataset.date))\n",
    "# results.reindex(idx, fill_value=0)"
   ]
  },
  {
   "cell_type": "code",
   "execution_count": 141,
   "metadata": {},
   "outputs": [],
   "source": [
    "# dataset = results\n",
    "# train_dates = pd.to_datetime(dataset['date'])"
   ]
  },
  {
   "cell_type": "code",
   "execution_count": 142,
   "metadata": {},
   "outputs": [],
   "source": [
    "cols = list(dataset)[1:2]"
   ]
  },
  {
   "cell_type": "code",
   "execution_count": 143,
   "metadata": {},
   "outputs": [
    {
     "data": {
      "text/plain": [
       "<AxesSubplot:>"
      ]
     },
     "execution_count": 143,
     "metadata": {},
     "output_type": "execute_result"
    },
    {
     "data": {
      "image/png": "[encoded data removed]",
      "text/plain": [
       "<Figure size 432x288 with 1 Axes>"
      ]
     },
     "metadata": {
      "needs_background": "light"
     },
     "output_type": "display_data"
    }
   ],
   "source": [
    "dataset_for_train_test = dataset[cols].astype(float)\n",
    "dataset_for_train_test.plot.line()"
   ]
  },
  {
   "cell_type": "code",
   "execution_count": 144,
   "metadata": {},
   "outputs": [],
   "source": [
    "n_train_day = 365 * 4\n",
    "dataset_for_training = dataset_for_train_test.iloc[:n_train_day, :]\n",
    "dataset_for_testing = dataset_for_train_test.iloc[n_train_day:, :]"
   ]
  },
  {
   "cell_type": "code",
   "execution_count": 145,
   "metadata": {},
   "outputs": [
    {
     "data": {
      "image/png": "[encoded data removed]",
      "text/plain": [
       "<Figure size 432x288 with 1 Axes>"
      ]
     },
     "metadata": {
      "needs_background": "light"
     },
     "output_type": "display_data"
    }
   ],
   "source": [
    "plt.plot(dataset_for_training,label = 'train_data')\n",
    "plt.plot(dataset_for_testing,label = 'test_data')\n",
    "plt.legend()\n",
    "plt.show()"
   ]
  },
  {
   "cell_type": "code",
   "execution_count": 146,
   "metadata": {},
   "outputs": [],
   "source": [
    "scaled = StandardScaler()\n",
    "scaled = scaled.fit(dataset_for_training)\n",
    "dataset_for_training_scaled = scaled.transform(dataset_for_training)\n",
    "scaled = scaled.fit(dataset_for_testing)\n",
    "dataset_for_testing_scaled = scaled.transform(dataset_for_testing)"
   ]
  },
  {
   "cell_type": "code",
   "execution_count": 147,
   "metadata": {},
   "outputs": [],
   "source": [
    "trainX=[]\n",
    "trainY=[]\n",
    "testX=[]\n",
    "testY=[]\n",
    "n_future = 1\n",
    "n_past = 14"
   ]
  },
  {
   "cell_type": "code",
   "execution_count": 148,
   "metadata": {},
   "outputs": [],
   "source": [
    "for i in range(n_past, len(dataset_for_training_scaled) - n_future +1):\n",
    "    trainX.append(dataset_for_training_scaled[i - n_past:i, 0:dataset_for_training.shape[1]])\n",
    "    trainY.append(dataset_for_training_scaled[i + n_future - 1:i + n_future, 0])\n",
    "    \n",
    "for i in range(n_past, len(dataset_for_testing_scaled) - n_future +1):\n",
    "    testX.append(dataset_for_testing_scaled[i - n_past:i, 0:dataset_for_testing.shape[1]])\n",
    "    testY.append(dataset_for_testing_scaled[i + n_future - 1:i + n_future, 0])"
   ]
  },
  {
   "cell_type": "code",
   "execution_count": 149,
   "metadata": {},
   "outputs": [
    {
     "name": "stdout",
     "output_type": "stream",
     "text": [
      "trainX shape == (1446, 14, 1).\n",
      "trainY shape == (1446, 1).\n",
      "testX shape == (529, 14, 1).\n",
      "testY shape == (529, 1).\n"
     ]
    }
   ],
   "source": [
    "trainX, trainY = np.array(trainX), np.array(trainY)\n",
    "print('trainX shape == {}.'.format(trainX.shape))\n",
    "print('trainY shape == {}.'.format(trainY.shape))\n",
    "testX, testY = np.array(testX), np.array(testY)\n",
    "print('testX shape == {}.'.format(testX.shape))\n",
    "print('testY shape == {}.'.format(testY.shape))"
   ]
  },
  {
   "cell_type": "code",
   "execution_count": 150,
   "metadata": {},
   "outputs": [
    {
     "name": "stdout",
     "output_type": "stream",
     "text": [
      "Model: \"sequential_3\"\n",
      "_________________________________________________________________\n",
      "Layer (type)                 Output Shape              Param #   \n",
      "=================================================================\n",
      "lstm_6 (LSTM)                (None, 14, 64)            16896     \n",
      "_________________________________________________________________\n",
      "lstm_7 (LSTM)                (None, 32)                12416     \n",
      "_________________________________________________________________\n",
      "dropout_3 (Dropout)          (None, 32)                0         \n",
      "_________________________________________________________________\n",
      "dense_3 (Dense)              (None, 1)                 33        \n",
      "=================================================================\n",
      "Total params: 29,345\n",
      "Trainable params: 29,345\n",
      "Non-trainable params: 0\n",
      "_________________________________________________________________\n"
     ]
    }
   ],
   "source": [
    "model = Sequential()\n",
    "model.add(LSTM(64, activation='relu', input_shape=(trainX.shape[1], trainX.shape[2]), return_sequences=True))\n",
    "model.add(LSTM(32, activation='relu', return_sequences=False))\n",
    "model.add(Dropout(0.2))\n",
    "model.add(Dense(trainY.shape[1]))\n",
    "model.compile(optimizer='adam', loss='mae')\n",
    "model.summary()"
   ]
  },
  {
   "cell_type": "code",
   "execution_count": 151,
   "metadata": {},
   "outputs": [
    {
     "name": "stdout",
     "output_type": "stream",
     "text": [
      "Epoch 1/30\n",
      "82/82 - 2s - loss: 0.6859 - val_loss: 0.6721\n",
      "Epoch 2/30\n",
      "82/82 - 0s - loss: 0.6283 - val_loss: 0.6365\n",
      "Epoch 3/30\n",
      "82/82 - 0s - loss: 0.5594 - val_loss: 0.6193\n",
      "Epoch 4/30\n",
      "82/82 - 0s - loss: 0.5396 - val_loss: 0.6116\n",
      "Epoch 5/30\n",
      "82/82 - 0s - loss: 0.5468 - val_loss: 0.5960\n",
      "Epoch 6/30\n",
      "82/82 - 0s - loss: 0.5082 - val_loss: 0.6017\n",
      "Epoch 7/30\n",
      "82/82 - 0s - loss: 0.5090 - val_loss: 0.5983\n",
      "Epoch 8/30\n",
      "82/82 - 0s - loss: 0.5038 - val_loss: 0.5911\n",
      "Epoch 9/30\n",
      "82/82 - 0s - loss: 0.5005 - val_loss: 0.5843\n",
      "Epoch 10/30\n",
      "82/82 - 0s - loss: 0.4995 - val_loss: 0.5762\n",
      "Epoch 11/30\n",
      "82/82 - 0s - loss: 0.5014 - val_loss: 0.5791\n",
      "Epoch 12/30\n",
      "82/82 - 0s - loss: 0.5035 - val_loss: 0.5890\n",
      "Epoch 13/30\n",
      "82/82 - 0s - loss: 0.4989 - val_loss: 0.5742\n",
      "Epoch 14/30\n",
      "82/82 - 0s - loss: 0.4946 - val_loss: 0.5717\n",
      "Epoch 15/30\n",
      "82/82 - 0s - loss: 0.4953 - val_loss: 0.5694\n",
      "Epoch 16/30\n",
      "82/82 - 0s - loss: 0.4952 - val_loss: 0.5743\n",
      "Epoch 17/30\n",
      "82/82 - 0s - loss: 0.4877 - val_loss: 0.5768\n",
      "Epoch 18/30\n",
      "82/82 - 0s - loss: 0.4929 - val_loss: 0.5769\n",
      "Epoch 19/30\n",
      "82/82 - 0s - loss: 0.4948 - val_loss: 0.5807\n",
      "Epoch 20/30\n",
      "82/82 - 0s - loss: 0.4825 - val_loss: 0.5751\n",
      "Epoch 21/30\n",
      "82/82 - 0s - loss: 0.4922 - val_loss: 0.5642\n",
      "Epoch 22/30\n",
      "82/82 - 0s - loss: 0.4924 - val_loss: 0.5673\n",
      "Epoch 23/30\n",
      "82/82 - 0s - loss: 0.4890 - val_loss: 0.5750\n",
      "Epoch 24/30\n",
      "82/82 - 0s - loss: 0.4866 - val_loss: 0.5688\n",
      "Epoch 25/30\n",
      "82/82 - 0s - loss: 0.4859 - val_loss: 0.5729\n",
      "Epoch 26/30\n",
      "82/82 - 0s - loss: 0.4911 - val_loss: 0.5906\n",
      "Epoch 27/30\n",
      "82/82 - 0s - loss: 0.4810 - val_loss: 0.5821\n",
      "Epoch 28/30\n",
      "82/82 - 0s - loss: 0.4947 - val_loss: 0.5804\n",
      "Epoch 29/30\n",
      "82/82 - 0s - loss: 0.4904 - val_loss: 0.5721\n",
      "Epoch 30/30\n",
      "82/82 - 0s - loss: 0.4869 - val_loss: 0.5743\n"
     ]
    },
    {
     "data": {
      "text/plain": [
       "<matplotlib.legend.Legend at 0x19dad40ac10>"
      ]
     },
     "execution_count": 151,
     "metadata": {},
     "output_type": "execute_result"
    },
    {
     "data": {
      "image/png": "[encoded data removed]",
      "text/plain": [
       "<Figure size 432x288 with 1 Axes>"
      ]
     },
     "metadata": {
      "needs_background": "light"
     },
     "output_type": "display_data"
    }
   ],
   "source": [
    "history = model.fit(trainX, trainY, epochs=30, batch_size=16, validation_split=0.1, verbose=2)\n",
    "plt.plot(history.history['loss'], label='Train')\n",
    "plt.plot(history.history['val_loss'], label='Validation')\n",
    "plt.legend()"
   ]
  },
  {
   "cell_type": "code",
   "execution_count": 152,
   "metadata": {},
   "outputs": [],
   "source": [
    "n_future=30 \n",
    "forecast_period_dates = pd.date_range(list(train_dates)[-1], periods=n_future, freq='1d').tolist()\n",
    "\n",
    "forecast = model.predict(trainX[-n_future:]) #forecast \n",
    "# forecast = model.predict(testX)\n",
    "# [-n_future:]"
   ]
  },
  {
   "cell_type": "code",
   "execution_count": 153,
   "metadata": {},
   "outputs": [],
   "source": [
    " trainY_inv = scaled.inverse_transform([trainY[-n_future:]])\n",
    "# trainY_inv = scaled.inverse_transform([testY])\n",
    "forecast_inv = scaled.inverse_transform([forecast])\n"
   ]
  },
  {
   "cell_type": "code",
   "execution_count": 154,
   "metadata": {},
   "outputs": [
    {
     "data": {
      "text/plain": [
       "array([], shape=(0, 30), dtype=float32)"
      ]
     },
     "execution_count": 154,
     "metadata": {},
     "output_type": "execute_result"
    }
   ],
   "source": [
    "nsamples, nx, ny = forecast_inv.shape\n",
    "forecast_inv2 = forecast_inv.reshape((nsamples,nx*ny))\n",
    "forecast_inv2[:-2]"
   ]
  },
  {
   "cell_type": "code",
   "execution_count": 155,
   "metadata": {},
   "outputs": [
    {
     "data": {
      "text/plain": [
       "array([], shape=(0, 30), dtype=float64)"
      ]
     },
     "execution_count": 155,
     "metadata": {},
     "output_type": "execute_result"
    }
   ],
   "source": [
    "nsamples, nx, ny = trainY_inv.shape\n",
    "trainY_inv2 = trainY_inv.reshape((nsamples,nx*ny))\n",
    "trainY_inv2[:-2]"
   ]
  },
  {
   "cell_type": "code",
   "execution_count": 156,
   "metadata": {},
   "outputs": [
    {
     "name": "stdout",
     "output_type": "stream",
     "text": [
      "Test Score: 17.55 RMSE\n"
     ]
    }
   ],
   "source": [
    "a=math.sqrt(mean_squared_error(trainY_inv2,forecast_inv2))\n",
    "print('Test Score: %.2f RMSE' % (a))"
   ]
  },
  {
   "cell_type": "code",
   "execution_count": 157,
   "metadata": {},
   "outputs": [
    {
     "data": {
      "image/png": "[encoded data removed]",
      "text/plain": [
       "<Figure size 432x288 with 1 Axes>"
      ]
     },
     "metadata": {
      "needs_background": "light"
     },
     "output_type": "display_data"
    }
   ],
   "source": [
    "plt.plot(forecast)\n",
    "plt.plot(trainY)\n",
    "plt.show()"
   ]
  },
  {
   "cell_type": "code",
   "execution_count": 158,
   "metadata": {},
   "outputs": [],
   "source": [
    "forecast_copies = np.repeat(forecast, dataset_for_training.shape[1], axis=-1)\n",
    "y_pred_future = scaled.inverse_transform(forecast_copies)[:,0]"
   ]
  },
  {
   "cell_type": "code",
   "execution_count": 161,
   "metadata": {},
   "outputs": [
    {
     "data": {
      "text/plain": [
       "array([[-0.01922562],\n",
       "       [-0.14575341],\n",
       "       [ 0.18018454],\n",
       "       [ 0.591552  ],\n",
       "       [ 0.24853982],\n",
       "       [-0.01950831],\n",
       "       [-0.49229175],\n",
       "       [-0.07594088],\n",
       "       [ 0.2841842 ],\n",
       "       [-0.42934343],\n",
       "       [-0.5490061 ],\n",
       "       [-0.35295552],\n",
       "       [ 0.07646026],\n",
       "       [ 0.6631105 ],\n",
       "       [ 1.2684932 ],\n",
       "       [ 1.1468431 ],\n",
       "       [ 0.23172812],\n",
       "       [ 0.66032636],\n",
       "       [-0.19158018],\n",
       "       [-0.03610157],\n",
       "       [ 0.46147534],\n",
       "       [ 0.84916306],\n",
       "       [ 1.0707144 ],\n",
       "       [ 1.3336926 ],\n",
       "       [ 1.1580336 ],\n",
       "       [ 1.3012515 ],\n",
       "       [ 0.42231154],\n",
       "       [ 0.7523631 ],\n",
       "       [ 0.87348056],\n",
       "       [ 1.3035434 ]], dtype=float32)"
      ]
     },
     "execution_count": 161,
     "metadata": {},
     "output_type": "execute_result"
    }
   ],
   "source": [
    "forecast_copies"
   ]
  },
  {
   "cell_type": "code",
   "execution_count": 159,
   "metadata": {},
   "outputs": [
    {
     "name": "stderr",
     "output_type": "stream",
     "text": [
      "<ipython-input-159-1ae7f63a31e9>:10: SettingWithCopyWarning: \n",
      "A value is trying to be set on a copy of a slice from a DataFrame.\n",
      "Try using .loc[row_indexer,col_indexer] = value instead\n",
      "\n",
      "See the caveats in the documentation: https://pandas.pydata.org/pandas-docs/stable/user_guide/indexing.html#returning-a-view-versus-a-copy\n",
      "  original['date']=pd.to_datetime(original['date'])\n",
      "C:\\ProgramData\\Anaconda3\\lib\\site-packages\\seaborn\\_decorators.py:36: FutureWarning: Pass the following variables as keyword args: x, y. From version 0.12, the only valid positional argument will be `data`, and passing other arguments without an explicit keyword will result in an error or misinterpretation.\n",
      "  warnings.warn(\n",
      "C:\\ProgramData\\Anaconda3\\lib\\site-packages\\seaborn\\_decorators.py:36: FutureWarning: Pass the following variables as keyword args: x, y. From version 0.12, the only valid positional argument will be `data`, and passing other arguments without an explicit keyword will result in an error or misinterpretation.\n",
      "  warnings.warn(\n"
     ]
    },
    {
     "data": {
      "text/plain": [
       "<AxesSubplot:xlabel='date', ylabel='pm25'>"
      ]
     },
     "execution_count": 159,
     "metadata": {},
     "output_type": "execute_result"
    },
    {
     "data": {
      "image/png": "[encoded data removed]",
      "text/plain": [
       "<Figure size 432x288 with 1 Axes>"
      ]
     },
     "metadata": {
      "needs_background": "light"
     },
     "output_type": "display_data"
    }
   ],
   "source": [
    "forecast_dates = []\n",
    "for time_i in forecast_period_dates:\n",
    "    forecast_dates.append(time_i.date())\n",
    "    \n",
    "df_forecast = pd.DataFrame({'date':np.array(forecast_dates), 'pm25':y_pred_future})\n",
    "df_forecast['date']=pd.to_datetime(df_forecast['date'])\n",
    "\n",
    "\n",
    "original = dataset[['date', 'pm25']]\n",
    "original['date']=pd.to_datetime(original['date'])\n",
    "original = original.loc[original['date'] >= '2020-10-1']\n",
    "\n",
    "sns.lineplot(original['date'], original['pm25'])\n",
    "sns.lineplot(df_forecast['date'], df_forecast['pm25'])"
   ]
  },
  {
   "cell_type": "code",
   "execution_count": 160,
   "metadata": {},
   "outputs": [
    {
     "data": {
      "text/html": [
       "<div>\n",
       "<style scoped>\n",
       "    .dataframe tbody tr th:only-of-type {\n",
       "        vertical-align: middle;\n",
       "    }\n",
       "\n",
       "    .dataframe tbody tr th {\n",
       "        vertical-align: top;\n",
       "    }\n",
       "\n",
       "    .dataframe thead th {\n",
       "        text-align: right;\n",
       "    }\n",
       "</style>\n",
       "<table border=\"1\" class=\"dataframe\">\n",
       "  <thead>\n",
       "    <tr style=\"text-align: right;\">\n",
       "      <th></th>\n",
       "      <th>date</th>\n",
       "      <th>pm25</th>\n",
       "    </tr>\n",
       "  </thead>\n",
       "  <tbody>\n",
       "    <tr>\n",
       "      <th>0</th>\n",
       "      <td>2021-10-03</td>\n",
       "      <td>74.702812</td>\n",
       "    </tr>\n",
       "    <tr>\n",
       "      <th>1</th>\n",
       "      <td>2021-10-04</td>\n",
       "      <td>71.450081</td>\n",
       "    </tr>\n",
       "    <tr>\n",
       "      <th>2</th>\n",
       "      <td>2021-10-05</td>\n",
       "      <td>79.829163</td>\n",
       "    </tr>\n",
       "    <tr>\n",
       "      <th>3</th>\n",
       "      <td>2021-10-06</td>\n",
       "      <td>90.404427</td>\n",
       "    </tr>\n",
       "    <tr>\n",
       "      <th>4</th>\n",
       "      <td>2021-10-07</td>\n",
       "      <td>81.586411</td>\n",
       "    </tr>\n",
       "    <tr>\n",
       "      <th>5</th>\n",
       "      <td>2021-10-08</td>\n",
       "      <td>74.695541</td>\n",
       "    </tr>\n",
       "    <tr>\n",
       "      <th>6</th>\n",
       "      <td>2021-10-09</td>\n",
       "      <td>62.541420</td>\n",
       "    </tr>\n",
       "    <tr>\n",
       "      <th>7</th>\n",
       "      <td>2021-10-10</td>\n",
       "      <td>73.244797</td>\n",
       "    </tr>\n",
       "    <tr>\n",
       "      <th>8</th>\n",
       "      <td>2021-10-11</td>\n",
       "      <td>82.502747</td>\n",
       "    </tr>\n",
       "    <tr>\n",
       "      <th>9</th>\n",
       "      <td>2021-10-12</td>\n",
       "      <td>64.159668</td>\n",
       "    </tr>\n",
       "    <tr>\n",
       "      <th>10</th>\n",
       "      <td>2021-10-13</td>\n",
       "      <td>61.083431</td>\n",
       "    </tr>\n",
       "    <tr>\n",
       "      <th>11</th>\n",
       "      <td>2021-10-14</td>\n",
       "      <td>66.123421</td>\n",
       "    </tr>\n",
       "    <tr>\n",
       "      <th>12</th>\n",
       "      <td>2021-10-15</td>\n",
       "      <td>77.162659</td>\n",
       "    </tr>\n",
       "    <tr>\n",
       "      <th>13</th>\n",
       "      <td>2021-10-16</td>\n",
       "      <td>92.244026</td>\n",
       "    </tr>\n",
       "    <tr>\n",
       "      <th>14</th>\n",
       "      <td>2021-10-17</td>\n",
       "      <td>107.806953</td>\n",
       "    </tr>\n",
       "    <tr>\n",
       "      <th>15</th>\n",
       "      <td>2021-10-18</td>\n",
       "      <td>104.679626</td>\n",
       "    </tr>\n",
       "    <tr>\n",
       "      <th>16</th>\n",
       "      <td>2021-10-19</td>\n",
       "      <td>81.154228</td>\n",
       "    </tr>\n",
       "    <tr>\n",
       "      <th>17</th>\n",
       "      <td>2021-10-20</td>\n",
       "      <td>92.172455</td>\n",
       "    </tr>\n",
       "    <tr>\n",
       "      <th>18</th>\n",
       "      <td>2021-10-21</td>\n",
       "      <td>70.271988</td>\n",
       "    </tr>\n",
       "    <tr>\n",
       "      <th>19</th>\n",
       "      <td>2021-10-22</td>\n",
       "      <td>74.268967</td>\n",
       "    </tr>\n",
       "    <tr>\n",
       "      <th>20</th>\n",
       "      <td>2021-10-23</td>\n",
       "      <td>87.060471</td>\n",
       "    </tr>\n",
       "    <tr>\n",
       "      <th>21</th>\n",
       "      <td>2021-10-24</td>\n",
       "      <td>97.026985</td>\n",
       "    </tr>\n",
       "    <tr>\n",
       "      <th>22</th>\n",
       "      <td>2021-10-25</td>\n",
       "      <td>102.722534</td>\n",
       "    </tr>\n",
       "    <tr>\n",
       "      <th>23</th>\n",
       "      <td>2021-10-26</td>\n",
       "      <td>109.483070</td>\n",
       "    </tr>\n",
       "    <tr>\n",
       "      <th>24</th>\n",
       "      <td>2021-10-27</td>\n",
       "      <td>104.967308</td>\n",
       "    </tr>\n",
       "    <tr>\n",
       "      <th>25</th>\n",
       "      <td>2021-10-28</td>\n",
       "      <td>108.649094</td>\n",
       "    </tr>\n",
       "    <tr>\n",
       "      <th>26</th>\n",
       "      <td>2021-10-29</td>\n",
       "      <td>86.053665</td>\n",
       "    </tr>\n",
       "    <tr>\n",
       "      <th>27</th>\n",
       "      <td>2021-10-30</td>\n",
       "      <td>94.538490</td>\n",
       "    </tr>\n",
       "    <tr>\n",
       "      <th>28</th>\n",
       "      <td>2021-10-31</td>\n",
       "      <td>97.652130</td>\n",
       "    </tr>\n",
       "    <tr>\n",
       "      <th>29</th>\n",
       "      <td>2021-11-01</td>\n",
       "      <td>108.708015</td>\n",
       "    </tr>\n",
       "  </tbody>\n",
       "</table>\n",
       "</div>"
      ],
      "text/plain": [
       "         date        pm25\n",
       "0  2021-10-03   74.702812\n",
       "1  2021-10-04   71.450081\n",
       "2  2021-10-05   79.829163\n",
       "3  2021-10-06   90.404427\n",
       "4  2021-10-07   81.586411\n",
       "5  2021-10-08   74.695541\n",
       "6  2021-10-09   62.541420\n",
       "7  2021-10-10   73.244797\n",
       "8  2021-10-11   82.502747\n",
       "9  2021-10-12   64.159668\n",
       "10 2021-10-13   61.083431\n",
       "11 2021-10-14   66.123421\n",
       "12 2021-10-15   77.162659\n",
       "13 2021-10-16   92.244026\n",
       "14 2021-10-17  107.806953\n",
       "15 2021-10-18  104.679626\n",
       "16 2021-10-19   81.154228\n",
       "17 2021-10-20   92.172455\n",
       "18 2021-10-21   70.271988\n",
       "19 2021-10-22   74.268967\n",
       "20 2021-10-23   87.060471\n",
       "21 2021-10-24   97.026985\n",
       "22 2021-10-25  102.722534\n",
       "23 2021-10-26  109.483070\n",
       "24 2021-10-27  104.967308\n",
       "25 2021-10-28  108.649094\n",
       "26 2021-10-29   86.053665\n",
       "27 2021-10-30   94.538490\n",
       "28 2021-10-31   97.652130\n",
       "29 2021-11-01  108.708015"
      ]
     },
     "execution_count": 160,
     "metadata": {},
     "output_type": "execute_result"
    }
   ],
   "source": [
    "df_forecast"
   ]
  }
 ],
 "metadata": {
  "kernelspec": {
   "display_name": "Python 3",
   "language": "python",
   "name": "python3"
  },
  "language_info": {
   "codemirror_mode": {
    "name": "ipython",
    "version": 3
   },
   "file_extension": ".py",
   "mimetype": "text/x-python",
   "name": "python",
   "nbconvert_exporter": "python",
   "pygments_lexer": "ipython3",
   "version": "3.8.8"
  }
 },
 "nbformat": 4,
 "nbformat_minor": 4
}
